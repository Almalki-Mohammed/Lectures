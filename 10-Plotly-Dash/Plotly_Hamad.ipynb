{
 "cells": [
  {
   "cell_type": "code",
   "execution_count": null,
   "id": "6bf688a6",
   "metadata": {},
   "outputs": [],
   "source": [
    "from jupyter_dash import JupyterDash\n",
    "from dash import html, dcc"
   ]
  },
  {
   "cell_type": "code",
   "execution_count": null,
   "id": "e63fdc6e",
   "metadata": {},
   "outputs": [],
   "source": [
    "app = JupyterDash()"
   ]
  },
  {
   "cell_type": "code",
   "execution_count": null,
   "id": "92ab21aa",
   "metadata": {},
   "outputs": [],
   "source": [
    "app.layout = html.H1('Hello world!!', style = {'textAlign':'center'})"
   ]
  },
  {
   "cell_type": "code",
   "execution_count": null,
   "id": "d075c5e8",
   "metadata": {},
   "outputs": [],
   "source": [
    "app.run_server()"
   ]
  },
  {
   "cell_type": "code",
   "execution_count": null,
   "id": "6e904bed",
   "metadata": {},
   "outputs": [],
   "source": [
    "app.layout = html.H1('Hamad!!')\n",
    "app.run_server()"
   ]
  },
  {
   "cell_type": "code",
   "execution_count": null,
   "id": "c1e2a7d3",
   "metadata": {},
   "outputs": [],
   "source": []
  },
  {
   "cell_type": "code",
   "execution_count": null,
   "id": "38fde261",
   "metadata": {},
   "outputs": [],
   "source": []
  },
  {
   "cell_type": "code",
   "execution_count": null,
   "id": "6e1634b3",
   "metadata": {},
   "outputs": [],
   "source": [
    "app.layout = html.Div([\n",
    "    dcc.Checklist(\n",
    "        ['New York', 'Montreal', 'San Francisco'],\n",
    "        ['New York', 'Montreal']\n",
    "    )\n",
    "])\n",
    "\n",
    "app.run_server()"
   ]
  },
  {
   "cell_type": "code",
   "execution_count": null,
   "id": "127f3b54",
   "metadata": {},
   "outputs": [],
   "source": []
  },
  {
   "cell_type": "code",
   "execution_count": null,
   "id": "68b76842",
   "metadata": {},
   "outputs": [],
   "source": []
  },
  {
   "cell_type": "code",
   "execution_count": null,
   "id": "45fae5d7",
   "metadata": {},
   "outputs": [],
   "source": []
  },
  {
   "cell_type": "code",
   "execution_count": null,
   "id": "2b31af4d",
   "metadata": {},
   "outputs": [],
   "source": []
  },
  {
   "cell_type": "code",
   "execution_count": null,
   "id": "cb1a5a2f",
   "metadata": {},
   "outputs": [],
   "source": [
    "app.layout = html.Div([\n",
    "    dcc.Dropdown(\n",
    "        ['New York', 'Montreal', 'San Francisco'],\n",
    "        'New York',\n",
    "        id = 'demo-dropdown'\n",
    "    )\n",
    "])\n",
    "\n",
    "app.run_server()"
   ]
  },
  {
   "cell_type": "code",
   "execution_count": null,
   "id": "9f86bb93",
   "metadata": {},
   "outputs": [],
   "source": [
    "app.layout = html.Div([\n",
    "    html.Label('Choose from Range Slider'),\n",
    "    dcc.RangeSlider(0, 20, 1, value=[5, 15], id='my-range-slider'),\n",
    "    html.Div(id = 'output-container-range-slider')\n",
    "])\n",
    "\n",
    "app.run_server()"
   ]
  },
  {
   "cell_type": "code",
   "execution_count": null,
   "id": "69bcc659",
   "metadata": {},
   "outputs": [],
   "source": [
    "import dash_bootstrap_components as dbc"
   ]
  },
  {
   "cell_type": "code",
   "execution_count": null,
   "id": "7c01d5a4",
   "metadata": {},
   "outputs": [],
   "source": [
    "app = JupyterDash(\n",
    "    external_stylesheets=[dbc.themes.SPACELAB, dbc.icons.BOOTSTRAP]\n",
    ")"
   ]
  },
  {
   "cell_type": "code",
   "execution_count": null,
   "id": "793e8256",
   "metadata": {},
   "outputs": [],
   "source": [
    "card = dbc.Card(\n",
    "        dbc.CardBody([\n",
    "            html.H1('الحضور'),\n",
    "            html.H3('1k')\n",
    "        ])\n",
    "    )\n",
    "\n",
    "app.layout = dbc.Container(card)\n",
    "\n",
    "app.run_server()"
   ]
  },
  {
   "cell_type": "code",
   "execution_count": null,
   "id": "d7234eb0",
   "metadata": {},
   "outputs": [],
   "source": []
  },
  {
   "cell_type": "code",
   "execution_count": null,
   "id": "5763bb28",
   "metadata": {},
   "outputs": [],
   "source": []
  },
  {
   "cell_type": "code",
   "execution_count": null,
   "id": "77520784",
   "metadata": {},
   "outputs": [],
   "source": []
  },
  {
   "cell_type": "code",
   "execution_count": null,
   "id": "76dadde2",
   "metadata": {},
   "outputs": [],
   "source": []
  },
  {
   "cell_type": "code",
   "execution_count": null,
   "id": "34b7b0d0",
   "metadata": {},
   "outputs": [],
   "source": []
  },
  {
   "cell_type": "code",
   "execution_count": null,
   "id": "ac3324d9",
   "metadata": {},
   "outputs": [],
   "source": [
    "card = dbc.Card(\n",
    "     dbc.CardBody(\n",
    "         [\n",
    "             html.H1(children=[html.I(className=\"bi bi-people-fill\"), \"الحضور \"]),\n",
    "             html.H3(\"1K\"),\n",
    "             html.H6(html.I(\"في أكاديمية طويق\", className=\" text-success\")),\n",
    "         ],\n",
    "     ),\n",
    "     className=\"text-center m-4 bg-primary text-white\",\n",
    " )\n",
    "\n",
    "app.layout = dbc.Container(card)\n",
    "\n",
    "app.run_server()"
   ]
  },
  {
   "cell_type": "markdown",
   "id": "651943dc",
   "metadata": {},
   "source": [
    "# Task 1 :"
   ]
  },
  {
   "cell_type": "code",
   "execution_count": null,
   "id": "aeaf9095",
   "metadata": {},
   "outputs": [],
   "source": [
    "# import dash_html_components as html\n",
    "# import dash_bootstrap_components as dbc\n",
    "# from jupyter_dash import JupyterDash\n",
    "\n",
    "# app = JupyterDash(__name__, external_stylesheets=[\n",
    "#     dbc.themes.SPACELAB, dbc.icons.BOOTSTRAP\n",
    "# ])\n",
    "\n"
   ]
  },
  {
   "cell_type": "code",
   "execution_count": null,
   "id": "1e4fede1",
   "metadata": {},
   "outputs": [],
   "source": [
    "import pandas as pd\n",
    "from jupyter_dash import JupyterDash\n",
    "from dash import html, dcc\n",
    "import dash_bootstrap_components as dbc\n",
    "import plotly.express as px"
   ]
  },
  {
   "cell_type": "code",
   "execution_count": null,
   "id": "8408664d",
   "metadata": {},
   "outputs": [],
   "source": [
    "df = pd.read_csv('titanic passenger list.csv')\n",
    "df.head()"
   ]
  },
  {
   "cell_type": "code",
   "execution_count": null,
   "id": "533d0397",
   "metadata": {},
   "outputs": [],
   "source": [
    "app = JupyterDash(__name__, external_stylesheets = [dbc.themes.LUX])"
   ]
  },
  {
   "cell_type": "code",
   "execution_count": null,
   "id": "3fa8232e",
   "metadata": {},
   "outputs": [],
   "source": [
    "colors = ['#002366', '#74b3ce']"
   ]
  },
  {
   "cell_type": "code",
   "execution_count": null,
   "id": "d40cb4ef",
   "metadata": {},
   "outputs": [],
   "source": [
    "fig1 = px.bar(\n",
    "    data_frame=df, x = 'embarked', y = 'survived', template='simple_white'\n",
    ")\n",
    "\n",
    "fig1.show();"
   ]
  },
  {
   "cell_type": "code",
   "execution_count": null,
   "id": "9973bb4d",
   "metadata": {},
   "outputs": [],
   "source": [
    "fig2 = px.pie(\n",
    "    df, values='survived', names='sex', template='simple_white'\n",
    ")\n",
    "\n",
    "fig2.update_traces(\n",
    "    hoverinfo='label+percent', textinfo='value', textfont_size=20,\n",
    "    marker=dict(colors=colors, line=dict(color='#000000', width=1.5))\n",
    ")\n",
    "\n",
    "fig2.show();"
   ]
  },
  {
   "cell_type": "code",
   "execution_count": null,
   "id": "291e004c",
   "metadata": {},
   "outputs": [],
   "source": [
    "fig3 = px.scatter(\n",
    "    df, x='home.dest', y='age', hover_name='survived',\n",
    "    template='simple_white', width=1200, height=600\n",
    ")\n",
    "\n",
    "fig3.update_traces(\n",
    "    marker=dict(size=10, line=dict(width=2, color=colors)), opacity=0.5,\n",
    "    selector=dict(mode='markers')\n",
    ")\n",
    "\n",
    "fig3.show();"
   ]
  },
  {
   "cell_type": "code",
   "execution_count": null,
   "id": "592e24ef",
   "metadata": {},
   "outputs": [],
   "source": [
    "app.layout = dbc.Container([\n",
    "    dbc.Row([\n",
    "        dbc.Col([\n",
    "            html.H1(\"Titanic Passenger List\", style={'textAlign':'center'})\n",
    "        ], width=12)\n",
    "    ]),\n",
    "    \n",
    "    dbc.Row([\n",
    "        dbc.Col([\n",
    "            dcc.Graph(id='our-plot', figure=fig1)\n",
    "        ], width=6)\n",
    "    ]),\n",
    "    \n",
    "    dbc.Row([\n",
    "        dbc.Col([\n",
    "            dcc.Graph(id='scatter-plot', figure=fig3)\n",
    "        ], width=50)\n",
    "    ])\n",
    "])\n",
    "\n",
    "app.run_server(port=2223)"
   ]
  },
  {
   "cell_type": "code",
   "execution_count": null,
   "id": "186946ea",
   "metadata": {},
   "outputs": [],
   "source": []
  }
 ],
 "metadata": {
  "kernelspec": {
   "display_name": "Python 3 (ipykernel)",
   "language": "python",
   "name": "python3"
  },
  "language_info": {
   "codemirror_mode": {
    "name": "ipython",
    "version": 3
   },
   "file_extension": ".py",
   "mimetype": "text/x-python",
   "name": "python",
   "nbconvert_exporter": "python",
   "pygments_lexer": "ipython3",
   "version": "3.9.12"
  }
 },
 "nbformat": 4,
 "nbformat_minor": 5
}
